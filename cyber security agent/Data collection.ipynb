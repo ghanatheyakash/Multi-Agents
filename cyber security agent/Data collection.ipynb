{
 "cells": [
  {
   "cell_type": "code",
   "execution_count": 2,
   "id": "a405ea58-934f-41db-bbef-86bfc8a612bc",
   "metadata": {},
   "outputs": [
    {
     "name": "stdout",
     "output_type": "stream",
     "text": [
      "Logs saved to Application_logs.csv\n",
      "Failed to read Security logs: (1314, 'OpenEventLogW', 'A required privilege is not held by the client.')\n",
      "Logs saved to System_logs.csv\n",
      "Logs saved to Setup_logs.csv\n",
      "Logs saved to ForwardedEvents_logs.csv\n"
     ]
    }
   ],
   "source": [
    "import win32evtlog\n",
    "import csv\n",
    "\n",
    "def fetch_windows_logs(log_types=None):\n",
    "    if log_types is None:\n",
    "        log_types = [\"Application\", \"Security\", \"System\", \"Setup\", \"ForwardedEvents\"]\n",
    "    \n",
    "    for log_type in log_types:\n",
    "        logs = []\n",
    "        output_file = f\"{log_type}_logs.csv\"\n",
    "        \n",
    "        try:\n",
    "            hand = win32evtlog.OpenEventLog(None, log_type)\n",
    "            flags = win32evtlog.EVENTLOG_BACKWARDS_READ | win32evtlog.EVENTLOG_SEQUENTIAL_READ\n",
    "            total_records = win32evtlog.GetNumberOfEventLogRecords(hand)\n",
    "            \n",
    "            while True:\n",
    "                events = win32evtlog.ReadEventLog(hand, flags, 0)\n",
    "                if not events:\n",
    "                    break\n",
    "                for event in events:\n",
    "                    logs.append([event.TimeGenerated, event.EventID, event.SourceName, event.StringInserts])\n",
    "        \n",
    "        except Exception as e:\n",
    "            print(f\"Failed to read {log_type} logs: {e}\")\n",
    "            continue\n",
    "        \n",
    "        # Save logs to CSV\n",
    "        with open(output_file, \"w\", newline='', encoding=\"utf-8\") as f:\n",
    "            writer = csv.writer(f)\n",
    "            writer.writerow([\"Timestamp\", \"EventID\", \"Source\", \"Details\"])\n",
    "            for log in logs:\n",
    "                writer.writerow([log[0], log[1], log[2], log[3] if log[3] else \"N/A\"])\n",
    "        \n",
    "        print(f\"Logs saved to {output_file}\")\n",
    "\n",
    "# Run the function to fetch logs from all specified types\n",
    "fetch_windows_logs()\n",
    "\n"
   ]
  },
  {
   "cell_type": "code",
   "execution_count": 1,
   "id": "592a5b5d-0387-4f41-b536-4a8b68aa7689",
   "metadata": {},
   "outputs": [
    {
     "name": "stdout",
     "output_type": "stream",
     "text": [
      "Network logs saved to Network_logs.csv\n"
     ]
    }
   ],
   "source": [
    "import subprocess\n",
    "import csv\n",
    "\n",
    "def fetch_network_connections():\n",
    "    output_file = \"Network_logs.csv\"\n",
    "\n",
    "    # Run 'netstat' command to get active network connections\n",
    "    result = subprocess.run([\"netstat\", \"-ano\"], capture_output=True, text=True)\n",
    "\n",
    "    logs = []\n",
    "    for line in result.stdout.split(\"\\n\"):\n",
    "        parts = line.split()\n",
    "        if len(parts) >= 5 and parts[0] in [\"TCP\", \"UDP\"]:\n",
    "            logs.append(parts[:5])  # Protocol, Local Address, Foreign Address, State, PID\n",
    "\n",
    "    # Save to CSV\n",
    "    with open(output_file, \"w\", newline='', encoding=\"utf-8\") as f:\n",
    "        writer = csv.writer(f)\n",
    "        writer.writerow([\"Protocol\", \"Local Address\", \"Foreign Address\", \"State\", \"PID\"])\n",
    "        writer.writerows(logs)\n",
    "\n",
    "    print(f\"Network logs saved to {output_file}\")\n",
    "\n",
    "fetch_network_connections()\n"
   ]
  },
  {
   "cell_type": "code",
   "execution_count": null,
   "id": "94f369f3-bd9f-4c86-aaaa-8ff89d9a66f0",
   "metadata": {},
   "outputs": [],
   "source": []
  }
 ],
 "metadata": {
  "kernelspec": {
   "display_name": "Python 3 (ipykernel)",
   "language": "python",
   "name": "python3"
  },
  "language_info": {
   "codemirror_mode": {
    "name": "ipython",
    "version": 3
   },
   "file_extension": ".py",
   "mimetype": "text/x-python",
   "name": "python",
   "nbconvert_exporter": "python",
   "pygments_lexer": "ipython3",
   "version": "3.11.11"
  }
 },
 "nbformat": 4,
 "nbformat_minor": 5
}
